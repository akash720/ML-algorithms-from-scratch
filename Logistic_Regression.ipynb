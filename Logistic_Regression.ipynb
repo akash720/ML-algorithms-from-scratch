{
 "cells": [
  {
   "cell_type": "markdown",
   "metadata": {},
   "source": [
    "# Logistic regression"
   ]
  },
  {
   "cell_type": "code",
   "execution_count": 33,
   "metadata": {},
   "outputs": [
    {
     "data": {
      "application/javascript": [
       "IPython.notebook.set_autosave_interval(60000)"
      ]
     },
     "metadata": {},
     "output_type": "display_data"
    },
    {
     "name": "stdout",
     "output_type": "stream",
     "text": [
      "Autosaving every 60 seconds\n"
     ]
    }
   ],
   "source": [
    "%autosave 60\n",
    "\n",
    "import matplotlib.pyplot as plt\n",
    "import numpy as np\n",
    "import pandas as pd"
   ]
  },
  {
   "cell_type": "code",
   "execution_count": 34,
   "metadata": {},
   "outputs": [],
   "source": [
    "def sigmoid(z):\n",
    "    return 1/(1 + np.exp(1)**(-z))"
   ]
  },
  {
   "cell_type": "code",
   "execution_count": 35,
   "metadata": {},
   "outputs": [],
   "source": [
    "def cost(out, y, m):\n",
    "    return -np.sum(np.multiply(y, np.log(out)) + np.multiply(1-y, np.log(1 - out)))/m"
   ]
  },
  {
   "cell_type": "code",
   "execution_count": 36,
   "metadata": {},
   "outputs": [
    {
     "data": {
      "text/html": [
       "<div>\n",
       "<style scoped>\n",
       "    .dataframe tbody tr th:only-of-type {\n",
       "        vertical-align: middle;\n",
       "    }\n",
       "\n",
       "    .dataframe tbody tr th {\n",
       "        vertical-align: top;\n",
       "    }\n",
       "\n",
       "    .dataframe thead th {\n",
       "        text-align: right;\n",
       "    }\n",
       "</style>\n",
       "<table border=\"1\" class=\"dataframe\">\n",
       "  <thead>\n",
       "    <tr style=\"text-align: right;\">\n",
       "      <th></th>\n",
       "      <th>0</th>\n",
       "      <th>1</th>\n",
       "      <th>2</th>\n",
       "    </tr>\n",
       "  </thead>\n",
       "  <tbody>\n",
       "    <tr>\n",
       "      <th>0</th>\n",
       "      <td>34.623660</td>\n",
       "      <td>78.024693</td>\n",
       "      <td>0</td>\n",
       "    </tr>\n",
       "    <tr>\n",
       "      <th>1</th>\n",
       "      <td>30.286711</td>\n",
       "      <td>43.894998</td>\n",
       "      <td>0</td>\n",
       "    </tr>\n",
       "    <tr>\n",
       "      <th>2</th>\n",
       "      <td>35.847409</td>\n",
       "      <td>72.902198</td>\n",
       "      <td>0</td>\n",
       "    </tr>\n",
       "    <tr>\n",
       "      <th>3</th>\n",
       "      <td>60.182599</td>\n",
       "      <td>86.308552</td>\n",
       "      <td>1</td>\n",
       "    </tr>\n",
       "    <tr>\n",
       "      <th>4</th>\n",
       "      <td>79.032736</td>\n",
       "      <td>75.344376</td>\n",
       "      <td>1</td>\n",
       "    </tr>\n",
       "  </tbody>\n",
       "</table>\n",
       "</div>"
      ],
      "text/plain": [
       "           0          1  2\n",
       "0  34.623660  78.024693  0\n",
       "1  30.286711  43.894998  0\n",
       "2  35.847409  72.902198  0\n",
       "3  60.182599  86.308552  1\n",
       "4  79.032736  75.344376  1"
      ]
     },
     "execution_count": 36,
     "metadata": {},
     "output_type": "execute_result"
    }
   ],
   "source": [
    "data = pd.read_csv('data/logistic_reg.txt', header=None)\n",
    "data.head()"
   ]
  },
  {
   "cell_type": "code",
   "execution_count": 37,
   "metadata": {},
   "outputs": [
    {
     "data": {
      "text/plain": [
       "array([[0.49626112, 1.14294811, 0.        ],\n",
       "       [0.43409961, 0.64299778, 0.        ],\n",
       "       [0.51380112, 1.06791102, 0.        ],\n",
       "       [0.86259756, 1.26429458, 1.        ],\n",
       "       [1.13277668, 1.10368538, 1.        ]])"
      ]
     },
     "execution_count": 37,
     "metadata": {},
     "output_type": "execute_result"
    }
   ],
   "source": [
    "data = np.array(data.values, dtype = np.float64)\n",
    "\n",
    "# Feature normalization\n",
    "for i in range(len(data[0])):\n",
    "    data[:,i] = data[:,i]/(max(data[:,i]) - min(data[:,i]))\n",
    "\n",
    "data[:5]"
   ]
  },
  {
   "cell_type": "code",
   "execution_count": 38,
   "metadata": {},
   "outputs": [
    {
     "name": "stdout",
     "output_type": "stream",
     "text": [
      "x shape\ty_shape\n",
      "(80, 3) (80, 1)\n"
     ]
    }
   ],
   "source": [
    "split = int(0.8*len(data))\n",
    "x = data[:split, :2]\n",
    "x = np.insert(x, 0, 1, axis=1)\n",
    "y = np.expand_dims(data[:split, 2], axis=1)\n",
    "\n",
    "test_x = data[split:, :2]\n",
    "test_x = np.insert(test_x, 0, 1, axis=1)\n",
    "test_y = np.expand_dims(data[split:, 2], axis=1)\n",
    "\n",
    "print('x shape\\ty_shape')\n",
    "print(x.shape, y.shape)"
   ]
  },
  {
   "cell_type": "code",
   "execution_count": 39,
   "metadata": {},
   "outputs": [],
   "source": [
    "def train(x, y, m, lr, itr):\n",
    "#     np.random.seed(103)\n",
    "    num_ftrs = len(x[0])\n",
    "    history = []\n",
    "    theta = np.random.rand(num_ftrs) + 0.001\n",
    "    theta = np.expand_dims(theta, axis=1)\n",
    "    \n",
    "    for i in range(itr):\n",
    "        z = x.dot(theta)\n",
    "        h = sigmoid(z)\n",
    "        diff = x.T.dot(h - y)/m \n",
    "        theta = theta - lr*diff\n",
    "        history.append(cost(sigmoid(x.dot(theta)), y, len(y)))\n",
    "    \n",
    "    return theta, history"
   ]
  },
  {
   "cell_type": "code",
   "execution_count": 41,
   "metadata": {},
   "outputs": [
    {
     "name": "stdout",
     "output_type": "stream",
     "text": [
      "lr\titr\terror\n",
      "0.01\t50\t0.40484065641383615\n",
      "0.01\t100\t0.4135531662369628\n",
      "0.01\t200\t0.46831413873190897\n",
      "0.01\t500\t0.551248920547683\n",
      "0.01\t1000\t0.5511264286601473\n",
      "0.01\t5000\t0.44620925741211426\n",
      "0.01\t10000\t0.37665240355211205\n",
      "0.03\t50\t0.502483487963212\n",
      "0.03\t100\t0.49981052549602617\n",
      "0.03\t200\t0.5241235477901959\n",
      "0.03\t500\t0.5166664532719634\n",
      "0.03\t1000\t0.4768837892138465\n",
      "0.03\t5000\t0.34032058983384855\n",
      "0.03\t10000\t0.28565481553618866\n",
      "0.001\t50\t0.45365308939813326\n",
      "0.001\t100\t0.3674519652678846\n",
      "0.001\t200\t0.5058724878889459\n",
      "0.001\t500\t0.39695658691315605\n",
      "0.001\t1000\t0.4155846207987719\n",
      "0.001\t5000\t0.534096596115855\n",
      "0.001\t10000\t0.5598907841298353\n",
      "0.003\t50\t0.3686325043443186\n",
      "0.003\t100\t0.3750506184206931\n",
      "0.003\t200\t0.38817674763921023\n",
      "0.003\t500\t0.5109572969337564\n",
      "0.003\t1000\t0.5231421787446419\n",
      "0.003\t5000\t0.5199948094550406\n",
      "0.003\t10000\t0.49091331301819946\n",
      "\n",
      "Lowest error:0.28565481553618866 for lr:0.03 and itr:10000\n",
      "\n",
      "Plotting graph for lowest error...\n"
     ]
    },
    {
     "data": {
      "image/png": "[encoded data removed]",
      "text/plain": [
       "<Figure size 720x360 with 1 Axes>"
      ]
     },
     "metadata": {
      "needs_background": "light"
     },
     "output_type": "display_data"
    }
   ],
   "source": [
    "best_theta = best_out = best_history = None\n",
    "best_lr = best_itr = 0\n",
    "prev_cost = 1\n",
    "\n",
    "print('lr\\titr\\terror')\n",
    "for lr in [0.01, 0.03, 0.001, 0.003]:\n",
    "    for itr in [50, 100, 200, 500, 1000, 5000, 10000]:\n",
    "        theta, history = train(x, y, len(x), lr, itr)\n",
    "        z = test_x.dot(theta)\n",
    "        out = sigmoid(z)\n",
    "        curr_cost = cost(out, test_y, len(out))\n",
    "        print('{}\\t{}\\t{}'.format(lr, itr, curr_cost))\n",
    "        if curr_cost < prev_cost:\n",
    "            prev_cost = curr_cost\n",
    "            best_theta = theta\n",
    "            best_lr = lr\n",
    "            best_itr = itr\n",
    "            best_out = out\n",
    "            best_history = history\n",
    "            \n",
    "print('\\nLowest error:{} for lr:{} and itr:{}'.format(prev_cost, best_lr, best_itr))\n",
    "\n",
    "print('\\nPlotting graph for lowest error...')\n",
    "fig, ax = plt.subplots(1, 1)\n",
    "fig.set_figheight(5)\n",
    "fig.set_figwidth(10)\n",
    "\n",
    "ax.plot(range(best_itr), best_history, 'g')\n",
    "ax.set_xlabel('Iteration')\n",
    "ax.set_ylabel('Cost')\n",
    "ax.title.set_text('Cost v/s Iteration')"
   ]
  },
  {
   "cell_type": "code",
   "execution_count": 42,
   "metadata": {
    "scrolled": true
   },
   "outputs": [
    {
     "name": "stdout",
     "output_type": "stream",
     "text": [
      "output\tactual\n",
      "(1.0, 1.0)\n",
      "(1.0, 1.0)\n",
      "(1.0, 1.0)\n",
      "(0.0, 1.0)\n",
      "(1.0, 1.0)\n",
      "(1.0, 1.0)\n",
      "(0.0, 0.0)\n",
      "(1.0, 1.0)\n",
      "(1.0, 1.0)\n",
      "(0.0, 0.0)\n",
      "(1.0, 1.0)\n",
      "(1.0, 1.0)\n",
      "(0.0, 0.0)\n",
      "(1.0, 1.0)\n",
      "(1.0, 1.0)\n",
      "(1.0, 1.0)\n",
      "(1.0, 1.0)\n",
      "(1.0, 1.0)\n",
      "(0.0, 1.0)\n",
      "(1.0, 1.0)\n"
     ]
    }
   ],
   "source": [
    "# Checking results manually\n",
    "print('output\\tactual')\n",
    "print(*[(np.round(best_out[i])[0], test_y[i][0]) for i in range(len(out))], sep='\\n')"
   ]
  }
 ],
 "metadata": {
  "kernelspec": {
   "display_name": "Python 3",
   "language": "python",
   "name": "python3"
  },
  "language_info": {
   "codemirror_mode": {
    "name": "ipython",
    "version": 3
   },
   "file_extension": ".py",
   "mimetype": "text/x-python",
   "name": "python",
   "nbconvert_exporter": "python",
   "pygments_lexer": "ipython3",
   "version": "3.6.5"
  }
 },
 "nbformat": 4,
 "nbformat_minor": 2
}
