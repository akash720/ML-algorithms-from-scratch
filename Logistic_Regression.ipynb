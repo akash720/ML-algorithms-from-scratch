{
 "cells": [
  {
   "cell_type": "markdown",
   "metadata": {},
   "source": [
    "# Logistic regression"
   ]
  },
  {
   "cell_type": "code",
   "execution_count": 1,
   "metadata": {},
   "outputs": [
    {
     "data": {
      "application/javascript": [
       "IPython.notebook.set_autosave_interval(60000)"
      ]
     },
     "metadata": {},
     "output_type": "display_data"
    },
    {
     "name": "stdout",
     "output_type": "stream",
     "text": [
      "Autosaving every 60 seconds\n"
     ]
    }
   ],
   "source": [
    "%autosave 60\n",
    "\n",
    "import matplotlib.pyplot as plt\n",
    "import numpy as np\n",
    "import pandas as pd\n",
    "import seaborn as sns"
   ]
  },
  {
   "cell_type": "code",
   "execution_count": 2,
   "metadata": {},
   "outputs": [],
   "source": [
    "def sigmoid(z):\n",
    "    return 1/(1 + np.exp(1)**(-z))"
   ]
  },
  {
   "cell_type": "code",
   "execution_count": 3,
   "metadata": {},
   "outputs": [],
   "source": [
    "def cost(x, theta, y, m):\n",
    "    out = sigmoid(x.dot(theta))\n",
    "    return -np.sum(np.multiply(y, np.log(out)) + np.multiply(1-y, np.log(1 - out)))/m"
   ]
  },
  {
   "cell_type": "code",
   "execution_count": 4,
   "metadata": {},
   "outputs": [
    {
     "data": {
      "text/html": [
       "<div>\n",
       "<style scoped>\n",
       "    .dataframe tbody tr th:only-of-type {\n",
       "        vertical-align: middle;\n",
       "    }\n",
       "\n",
       "    .dataframe tbody tr th {\n",
       "        vertical-align: top;\n",
       "    }\n",
       "\n",
       "    .dataframe thead th {\n",
       "        text-align: right;\n",
       "    }\n",
       "</style>\n",
       "<table border=\"1\" class=\"dataframe\">\n",
       "  <thead>\n",
       "    <tr style=\"text-align: right;\">\n",
       "      <th></th>\n",
       "      <th>0</th>\n",
       "      <th>1</th>\n",
       "      <th>2</th>\n",
       "    </tr>\n",
       "  </thead>\n",
       "  <tbody>\n",
       "    <tr>\n",
       "      <th>0</th>\n",
       "      <td>34.623660</td>\n",
       "      <td>78.024693</td>\n",
       "      <td>0</td>\n",
       "    </tr>\n",
       "    <tr>\n",
       "      <th>1</th>\n",
       "      <td>30.286711</td>\n",
       "      <td>43.894998</td>\n",
       "      <td>0</td>\n",
       "    </tr>\n",
       "    <tr>\n",
       "      <th>2</th>\n",
       "      <td>35.847409</td>\n",
       "      <td>72.902198</td>\n",
       "      <td>0</td>\n",
       "    </tr>\n",
       "    <tr>\n",
       "      <th>3</th>\n",
       "      <td>60.182599</td>\n",
       "      <td>86.308552</td>\n",
       "      <td>1</td>\n",
       "    </tr>\n",
       "    <tr>\n",
       "      <th>4</th>\n",
       "      <td>79.032736</td>\n",
       "      <td>75.344376</td>\n",
       "      <td>1</td>\n",
       "    </tr>\n",
       "  </tbody>\n",
       "</table>\n",
       "</div>"
      ],
      "text/plain": [
       "           0          1  2\n",
       "0  34.623660  78.024693  0\n",
       "1  30.286711  43.894998  0\n",
       "2  35.847409  72.902198  0\n",
       "3  60.182599  86.308552  1\n",
       "4  79.032736  75.344376  1"
      ]
     },
     "execution_count": 4,
     "metadata": {},
     "output_type": "execute_result"
    }
   ],
   "source": [
    "data = pd.read_csv('data/logistic_reg.txt', header=None)\n",
    "data.head()"
   ]
  },
  {
   "cell_type": "code",
   "execution_count": 5,
   "metadata": {},
   "outputs": [
    {
     "data": {
      "image/png": "[encoded data removed]",
      "text/plain": [
       "<Figure size 432x288 with 1 Axes>"
      ]
     },
     "metadata": {},
     "output_type": "display_data"
    }
   ],
   "source": [
    "sns.set_style('white')\n",
    "sns.scatterplot(data.iloc[:,0],data.iloc[:,1],hue=data.iloc[:,2]);"
   ]
  },
  {
   "cell_type": "code",
   "execution_count": 6,
   "metadata": {},
   "outputs": [
    {
     "data": {
      "text/plain": [
       "array([[0.49626112, 1.14294811, 0.        ],\n",
       "       [0.43409961, 0.64299778, 0.        ],\n",
       "       [0.51380112, 1.06791102, 0.        ],\n",
       "       [0.86259756, 1.26429458, 1.        ],\n",
       "       [1.13277668, 1.10368538, 1.        ]])"
      ]
     },
     "execution_count": 6,
     "metadata": {},
     "output_type": "execute_result"
    }
   ],
   "source": [
    "data = np.array(data.values, dtype = np.float64)\n",
    "\n",
    "# Feature normalization\n",
    "for i in range(len(data[0])):\n",
    "    data[:,i] = data[:,i]/(max(data[:,i]) - min(data[:,i]))\n",
    "\n",
    "data[:5]"
   ]
  },
  {
   "cell_type": "code",
   "execution_count": 7,
   "metadata": {},
   "outputs": [
    {
     "name": "stdout",
     "output_type": "stream",
     "text": [
      "x shape\ty_shape\n",
      "(80, 3) (80, 1)\n"
     ]
    }
   ],
   "source": [
    "split = int(0.8*len(data))\n",
    "x = data[:split, :2]\n",
    "x = np.insert(x, 0, 1, axis=1)\n",
    "y = np.expand_dims(data[:split, 2], axis=1)\n",
    "\n",
    "test_x = data[split:, :2]\n",
    "test_x = np.insert(test_x, 0, 1, axis=1)\n",
    "test_y = np.expand_dims(data[split:, 2], axis=1)\n",
    "\n",
    "print('x shape\\ty_shape')\n",
    "print(x.shape, y.shape)"
   ]
  },
  {
   "cell_type": "code",
   "execution_count": 8,
   "metadata": {},
   "outputs": [],
   "source": [
    "def train(x, y, m, lr, itr):\n",
    "    np.random.seed(103)\n",
    "    num_ftrs = len(x[0])\n",
    "    history = []\n",
    "    theta = np.random.rand(num_ftrs) \n",
    "    theta = np.expand_dims(theta, axis=1)\n",
    "    \n",
    "    for i in range(itr):\n",
    "        z = x.dot(theta)\n",
    "        h = sigmoid(z)\n",
    "        diff = x.T.dot(h - y)/m \n",
    "        theta = theta - lr*diff\n",
    "        history.append(cost(x, theta, y, len(y)))\n",
    "    \n",
    "    return theta, history"
   ]
  },
  {
   "cell_type": "code",
   "execution_count": 9,
   "metadata": {},
   "outputs": [
    {
     "name": "stdout",
     "output_type": "stream",
     "text": [
      "lr\titr\terror\n",
      "0.01\t50\t0.5007647628075474\n",
      "0.01\t100\t0.5184497880690938\n",
      "0.01\t200\t0.541642067259839\n",
      "0.01\t500\t0.5583944156574662\n",
      "0.01\t1000\t0.5468068342347566\n",
      "0.01\t5000\t0.45227117130382233\n",
      "0.01\t10000\t0.38361767846521844\n",
      "0.03\t50\t0.5321213605262274\n",
      "0.03\t100\t0.5532740250435418\n",
      "0.03\t200\t0.5573117939717102\n",
      "0.03\t500\t0.5322592056336118\n",
      "0.03\t1000\t0.49354998940202544\n",
      "0.03\t5000\t0.3431355386092413\n",
      "0.03\t10000\t0.2860666698180788\n",
      "0.001\t50\t0.4810357472916781\n",
      "0.001\t100\t0.4833893666981138\n",
      "0.001\t200\t0.48797554837802126\n",
      "0.001\t500\t0.5007054173680647\n",
      "0.001\t1000\t0.5183540102268538\n",
      "0.001\t5000\t0.5583527727040059\n",
      "0.001\t10000\t0.5468047983662037\n",
      "0.003\t50\t0.4857074320771\n",
      "0.003\t100\t0.49240231040041077\n",
      "0.003\t200\t0.504607990534379\n",
      "0.003\t500\t0.5317844402891889\n",
      "0.003\t1000\t0.5529967139018966\n",
      "0.003\t5000\t0.5322625236223884\n",
      "0.003\t10000\t0.49355614262969355\n",
      "\n",
      "Lowest error:0.2860666698180788 for lr:0.03 and itr:10000\n",
      "\n",
      "Plotting graph for lowest error...\n"
     ]
    },
    {
     "data": {
      "image/png": "[encoded data removed]",
      "text/plain": [
       "<Figure size 720x360 with 1 Axes>"
      ]
     },
     "metadata": {},
     "output_type": "display_data"
    }
   ],
   "source": [
    "best_theta = best_history = None\n",
    "best_lr = best_itr = 0\n",
    "prev_cost = 1\n",
    "\n",
    "print('lr\\titr\\terror')\n",
    "for lr in [0.01, 0.03, 0.001, 0.003]:\n",
    "    for itr in [50, 100, 200, 500, 1000, 5000, 10000]:\n",
    "        theta, history = train(x, y, len(x), lr, itr)\n",
    "        # loss on test data\n",
    "        curr_cost = cost(test_x, theta, test_y, len(test_x))\n",
    "        print('{}\\t{}\\t{}'.format(lr, itr, curr_cost))\n",
    "        if curr_cost < prev_cost:\n",
    "            prev_cost = curr_cost\n",
    "            best_lr = lr\n",
    "            best_itr = itr\n",
    "            best_theta = theta\n",
    "            best_history = history\n",
    "            \n",
    "print('\\nLowest error:{} for lr:{} and itr:{}'.format(prev_cost, best_lr, best_itr))\n",
    "\n",
    "print('\\nPlotting graph for lowest error...')\n",
    "fig, ax = plt.subplots(1, 1)\n",
    "fig.set_figheight(5)\n",
    "fig.set_figwidth(10)\n",
    "\n",
    "ax.plot(range(best_itr), best_history, 'g')\n",
    "ax.set_xlabel('Iteration')\n",
    "ax.set_ylabel('Cost')\n",
    "ax.title.set_text('Cost v/s Iteration')"
   ]
  },
  {
   "cell_type": "code",
   "execution_count": 10,
   "metadata": {
    "scrolled": true
   },
   "outputs": [
    {
     "name": "stdout",
     "output_type": "stream",
     "text": [
      "output\tactual\n",
      "(1.0, 1.0)\n",
      "(1.0, 1.0)\n",
      "(1.0, 1.0)\n",
      "(0.0, 1.0)\n",
      "(1.0, 1.0)\n",
      "(1.0, 1.0)\n",
      "(0.0, 0.0)\n",
      "(1.0, 1.0)\n",
      "(1.0, 1.0)\n",
      "(0.0, 0.0)\n",
      "(1.0, 1.0)\n",
      "(1.0, 1.0)\n",
      "(0.0, 0.0)\n",
      "(1.0, 1.0)\n",
      "(1.0, 1.0)\n",
      "(1.0, 1.0)\n",
      "(1.0, 1.0)\n",
      "(1.0, 1.0)\n",
      "(0.0, 1.0)\n",
      "(1.0, 1.0)\n"
     ]
    }
   ],
   "source": [
    "# Checking results manually\n",
    "best_out = sigmoid(test_x.dot(best_theta))\n",
    "print('output\\tactual')\n",
    "print(*[(np.round(best_out[i])[0], test_y[i][0]) for i in range(len(test_x))], sep='\\n')"
   ]
  }
 ],
 "metadata": {
  "kernelspec": {
   "display_name": "Python 3",
   "language": "python",
   "name": "python3"
  },
  "language_info": {
   "codemirror_mode": {
    "name": "ipython",
    "version": 3
   },
   "file_extension": ".py",
   "mimetype": "text/x-python",
   "name": "python",
   "nbconvert_exporter": "python",
   "pygments_lexer": "ipython3",
   "version": "3.6.5"
  }
 },
 "nbformat": 4,
 "nbformat_minor": 2
}
