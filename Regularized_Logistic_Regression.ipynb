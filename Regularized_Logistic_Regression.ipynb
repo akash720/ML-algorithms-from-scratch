{
 "cells": [
  {
   "cell_type": "markdown",
   "metadata": {},
   "source": [
    "# Regularized Logistic regression"
   ]
  },
  {
   "cell_type": "code",
   "execution_count": 1,
   "metadata": {},
   "outputs": [
    {
     "data": {
      "application/javascript": [
       "IPython.notebook.set_autosave_interval(60000)"
      ]
     },
     "metadata": {},
     "output_type": "display_data"
    },
    {
     "name": "stdout",
     "output_type": "stream",
     "text": [
      "Autosaving every 60 seconds\n"
     ]
    }
   ],
   "source": [
    "%autosave 60\n",
    "\n",
    "import matplotlib.pyplot as plt\n",
    "import numpy as np\n",
    "import pandas as pd\n",
    "import seaborn as sns"
   ]
  },
  {
   "cell_type": "code",
   "execution_count": 2,
   "metadata": {},
   "outputs": [
    {
     "data": {
      "text/html": [
       "<div>\n",
       "<style scoped>\n",
       "    .dataframe tbody tr th:only-of-type {\n",
       "        vertical-align: middle;\n",
       "    }\n",
       "\n",
       "    .dataframe tbody tr th {\n",
       "        vertical-align: top;\n",
       "    }\n",
       "\n",
       "    .dataframe thead th {\n",
       "        text-align: right;\n",
       "    }\n",
       "</style>\n",
       "<table border=\"1\" class=\"dataframe\">\n",
       "  <thead>\n",
       "    <tr style=\"text-align: right;\">\n",
       "      <th></th>\n",
       "      <th>0</th>\n",
       "      <th>1</th>\n",
       "      <th>2</th>\n",
       "    </tr>\n",
       "  </thead>\n",
       "  <tbody>\n",
       "    <tr>\n",
       "      <th>0</th>\n",
       "      <td>34.623660</td>\n",
       "      <td>78.024693</td>\n",
       "      <td>0</td>\n",
       "    </tr>\n",
       "    <tr>\n",
       "      <th>1</th>\n",
       "      <td>30.286711</td>\n",
       "      <td>43.894998</td>\n",
       "      <td>0</td>\n",
       "    </tr>\n",
       "    <tr>\n",
       "      <th>2</th>\n",
       "      <td>35.847409</td>\n",
       "      <td>72.902198</td>\n",
       "      <td>0</td>\n",
       "    </tr>\n",
       "    <tr>\n",
       "      <th>3</th>\n",
       "      <td>60.182599</td>\n",
       "      <td>86.308552</td>\n",
       "      <td>1</td>\n",
       "    </tr>\n",
       "    <tr>\n",
       "      <th>4</th>\n",
       "      <td>79.032736</td>\n",
       "      <td>75.344376</td>\n",
       "      <td>1</td>\n",
       "    </tr>\n",
       "  </tbody>\n",
       "</table>\n",
       "</div>"
      ],
      "text/plain": [
       "           0          1  2\n",
       "0  34.623660  78.024693  0\n",
       "1  30.286711  43.894998  0\n",
       "2  35.847409  72.902198  0\n",
       "3  60.182599  86.308552  1\n",
       "4  79.032736  75.344376  1"
      ]
     },
     "execution_count": 2,
     "metadata": {},
     "output_type": "execute_result"
    }
   ],
   "source": [
    "data = pd.read_csv('data/logistic_reg.txt', header=None)\n",
    "data.head()"
   ]
  },
  {
   "cell_type": "code",
   "execution_count": 3,
   "metadata": {},
   "outputs": [
    {
     "data": {
      "image/png": "[encoded data removed]",
      "text/plain": [
       "<Figure size 432x288 with 1 Axes>"
      ]
     },
     "metadata": {},
     "output_type": "display_data"
    }
   ],
   "source": [
    "sns.set_style('white')\n",
    "sns.scatterplot(data.iloc[:,0],data.iloc[:,1],hue=data.iloc[:,2]);"
   ]
  },
  {
   "cell_type": "code",
   "execution_count": 4,
   "metadata": {},
   "outputs": [
    {
     "data": {
      "text/plain": [
       "array([[0.49626112, 1.14294811, 0.        ],\n",
       "       [0.43409961, 0.64299778, 0.        ],\n",
       "       [0.51380112, 1.06791102, 0.        ],\n",
       "       [0.86259756, 1.26429458, 1.        ],\n",
       "       [1.13277668, 1.10368538, 1.        ]])"
      ]
     },
     "execution_count": 4,
     "metadata": {},
     "output_type": "execute_result"
    }
   ],
   "source": [
    "data = np.array(data.values, dtype = np.float64)\n",
    "\n",
    "# Feature normalization\n",
    "for i in range(len(data[0])):\n",
    "    data[:,i] = data[:,i]/(max(data[:,i]) - min(data[:,i]))\n",
    "\n",
    "data[:5]"
   ]
  },
  {
   "cell_type": "code",
   "execution_count": 5,
   "metadata": {},
   "outputs": [
    {
     "name": "stdout",
     "output_type": "stream",
     "text": [
      "x shape\ty_shape\n",
      "(80, 3) (80, 1)\n"
     ]
    }
   ],
   "source": [
    "split = int(0.8*len(data))\n",
    "x = data[:split, :2]\n",
    "x = np.insert(x, 0, 1, axis=1)\n",
    "y = np.expand_dims(data[:split, 2], axis=1)\n",
    "\n",
    "test_x = data[split:, :2]\n",
    "test_x = np.insert(test_x, 0, 1, axis=1)\n",
    "test_y = np.expand_dims(data[split:, 2], axis=1)\n",
    "\n",
    "print('x shape\\ty_shape')\n",
    "print(x.shape, y.shape)"
   ]
  },
  {
   "cell_type": "code",
   "execution_count": 6,
   "metadata": {},
   "outputs": [],
   "source": [
    "def sigmoid(z):\n",
    "    return 1/(1 + np.exp(1)**(-z))"
   ]
  },
  {
   "cell_type": "code",
   "execution_count": 7,
   "metadata": {},
   "outputs": [],
   "source": [
    "# Regularized cost function\n",
    "def cost(x, theta, y, m, lmbda):\n",
    "    out = sigmoid(x.dot(theta))\n",
    "    reg_term = lmbda*np.sum(theta[1:]**2)/(2*m)\n",
    "    return reg_term - np.sum(np.multiply(y, np.log(out)) + np.multiply(1-y, np.log(1 - out)))/m"
   ]
  },
  {
   "cell_type": "code",
   "execution_count": 8,
   "metadata": {},
   "outputs": [],
   "source": [
    "def train(x, y, m, lr, itr, lmbda):\n",
    "    np.random.seed(103)\n",
    "    num_ftrs = len(x[0])\n",
    "    \n",
    "    history = []\n",
    "    \n",
    "    theta = np.random.rand(num_ftrs) \n",
    "    theta = np.expand_dims(theta, axis=1)\n",
    "    \n",
    "    for i in range(itr):\n",
    "        z = x.dot(theta)\n",
    "        h = sigmoid(z)\n",
    "        diff = x.T.dot(h - y)/m \n",
    "        \n",
    "        # No regularization for theta0\n",
    "        theta[0] = theta[0] - lr*diff[0]\n",
    "        \n",
    "        theta[1:] = theta[1:]*(1-lr*(lmbda/m)) - lr*diff[1:]\n",
    "        history.append(cost(x, theta, y, len(x), lmbda))\n",
    "    \n",
    "    return theta, history"
   ]
  },
  {
   "cell_type": "code",
   "execution_count": 9,
   "metadata": {},
   "outputs": [
    {
     "name": "stdout",
     "output_type": "stream",
     "text": [
      "lr\titr\terror\n",
      "0.01\t50\t0.5009146657517323\n",
      "0.01\t100\t0.5186104890175238\n",
      "0.01\t200\t0.5418323361083788\n",
      "0.01\t500\t0.558730401763442\n",
      "0.01\t1000\t0.5475994800091362\n",
      "0.01\t5000\t0.4613469136084279\n",
      "0.01\t10000\t0.4082748733449697\n",
      "0.03\t50\t0.5322960762569476\n",
      "0.03\t100\t0.5535009828845597\n",
      "0.03\t200\t0.557720102751457\n",
      "0.03\t500\t0.5336896823434805\n",
      "0.03\t1000\t0.49768809324282803\n",
      "0.03\t5000\t0.384684180045425\n",
      "0.03\t10000\t0.3744290125775836\n",
      "0.001\t50\t0.4811839602627395\n",
      "0.001\t100\t0.4835370923424499\n",
      "0.001\t200\t0.48812290883685533\n",
      "0.001\t500\t0.5008553102842074\n",
      "0.001\t1000\t0.5185146899694612\n",
      "0.001\t5000\t0.5586889099625457\n",
      "0.001\t10000\t0.5475974976343285\n",
      "0.003\t50\t0.48585487965623175\n",
      "0.003\t100\t0.49254999337987326\n",
      "0.003\t200\t0.504759576827851\n",
      "0.003\t500\t0.5319591444769427\n",
      "0.003\t1000\t0.5532240136651808\n",
      "0.003\t5000\t0.5336930753732095\n",
      "0.003\t10000\t0.497694095509068\n",
      "\n",
      "Lowest error:0.3744290125775836 for lr:0.03 and itr:10000\n",
      "\n",
      "Plotting graph for lowest error...\n"
     ]
    },
    {
     "data": {
      "image/png": "[encoded data removed]",
      "text/plain": [
       "<Figure size 720x360 with 1 Axes>"
      ]
     },
     "metadata": {},
     "output_type": "display_data"
    }
   ],
   "source": [
    "best_theta = best_history = None\n",
    "best_lr = best_itr = 0\n",
    "prev_cost = 1\n",
    "\n",
    "# if we choose large values of lambda then our model will not \n",
    "# perform well on this data as every feature is important\n",
    "lmbda = 0.1\n",
    "\n",
    "print('lr\\titr\\terror')\n",
    "for lr in [0.01, 0.03, 0.001, 0.003]:\n",
    "    for itr in [50, 100, 200, 500, 1000, 5000, 10000]:\n",
    "        theta, history = train(x, y, len(x), lr, itr, lmbda)\n",
    "        # loss on test data\n",
    "        curr_cost = cost(test_x, theta, test_y, len(test_x), lmbda)\n",
    "        print('{}\\t{}\\t{}'.format(lr, itr, curr_cost))\n",
    "        if curr_cost < prev_cost:\n",
    "            prev_cost = curr_cost\n",
    "            best_lr = lr\n",
    "            best_itr = itr\n",
    "            best_theta = theta\n",
    "            best_history = history\n",
    "            \n",
    "print('\\nLowest error:{} for lr:{} and itr:{}'.format(prev_cost, best_lr, best_itr))\n",
    "\n",
    "print('\\nPlotting graph for lowest error...')\n",
    "fig, ax = plt.subplots(1, 1)\n",
    "fig.set_figheight(5)\n",
    "fig.set_figwidth(10)\n",
    "\n",
    "ax.plot(range(best_itr), best_history, 'g')\n",
    "ax.set_xlabel('Iteration')\n",
    "ax.set_ylabel('Cost')\n",
    "ax.title.set_text('Cost v/s Iteration')"
   ]
  },
  {
   "cell_type": "code",
   "execution_count": 10,
   "metadata": {
    "scrolled": true
   },
   "outputs": [
    {
     "name": "stdout",
     "output_type": "stream",
     "text": [
      "output\tactual\n",
      "(1.0, 1.0)\n",
      "(1.0, 1.0)\n",
      "(1.0, 1.0)\n",
      "(0.0, 1.0)\n",
      "(1.0, 1.0)\n",
      "(1.0, 1.0)\n",
      "(0.0, 0.0)\n",
      "(1.0, 1.0)\n",
      "(1.0, 1.0)\n",
      "(0.0, 0.0)\n",
      "(1.0, 1.0)\n",
      "(1.0, 1.0)\n",
      "(0.0, 0.0)\n",
      "(1.0, 1.0)\n",
      "(1.0, 1.0)\n",
      "(1.0, 1.0)\n",
      "(1.0, 1.0)\n",
      "(1.0, 1.0)\n",
      "(0.0, 1.0)\n",
      "(1.0, 1.0)\n"
     ]
    }
   ],
   "source": [
    "# Checking results manually\n",
    "best_out = sigmoid(test_x.dot(best_theta))\n",
    "print('output\\tactual')\n",
    "print(*[(np.round(best_out[i])[0], test_y[i][0]) for i in range(len(test_x))], sep='\\n')"
   ]
  }
 ],
 "metadata": {
  "kernelspec": {
   "display_name": "Python 3",
   "language": "python",
   "name": "python3"
  },
  "language_info": {
   "codemirror_mode": {
    "name": "ipython",
    "version": 3
   },
   "file_extension": ".py",
   "mimetype": "text/x-python",
   "name": "python",
   "nbconvert_exporter": "python",
   "pygments_lexer": "ipython3",
   "version": "3.6.5"
  }
 },
 "nbformat": 4,
 "nbformat_minor": 2
}
